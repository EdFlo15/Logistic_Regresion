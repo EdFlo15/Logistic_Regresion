{
 "cells": [
  {
   "cell_type": "markdown",
   "id": "c1d749c2",
   "metadata": {},
   "source": [
    "## Training Clasifier with very low data- IRIS dataset"
   ]
  },
  {
   "cell_type": "code",
   "execution_count": 58,
   "id": "8c430487",
   "metadata": {},
   "outputs": [],
   "source": [
    "import matplotlib as plt\n",
    "import seaborn as sns\n",
    "from sklearn import datasets\n",
    "from sklearn.linear_model import LogisticRegression\n",
    "from sklearn.model_selection import train_test_split\n",
    "from sklearn.metrics import confusion_matrix\n",
    "import pandas as pd\n",
    "import numpy as np\n",
    "from sklearn.preprocessing import StandardScaler"
   ]
  },
  {
   "cell_type": "code",
   "execution_count": 2,
   "id": "87845dbe",
   "metadata": {},
   "outputs": [],
   "source": [
    "# load data\n",
    "iris=datasets.load_iris()\n",
    "# create feature matrix\n",
    "features=iris.data\n",
    "# load target of data\n",
    "target=iris.target"
   ]
  },
  {
   "cell_type": "code",
   "execution_count": 5,
   "id": "c4545d8c",
   "metadata": {},
   "outputs": [
    {
     "name": "stdout",
     "output_type": "stream",
     "text": [
      "<class 'numpy.ndarray'>\n",
      "<class 'numpy.ndarray'>\n"
     ]
    }
   ],
   "source": [
    "print(type(features))\n",
    "print(type(target))"
   ]
  },
  {
   "cell_type": "code",
   "execution_count": 10,
   "id": "a4436ae0",
   "metadata": {},
   "outputs": [
    {
     "data": {
      "text/plain": [
       "array([[5.1, 3.5, 1.4, 0.2],\n",
       "       [4.9, 3. , 1.4, 0.2],\n",
       "       [4.7, 3.2, 1.3, 0.2],\n",
       "       [4.6, 3.1, 1.5, 0.2],\n",
       "       [5. , 3.6, 1.4, 0.2]])"
      ]
     },
     "execution_count": 10,
     "metadata": {},
     "output_type": "execute_result"
    }
   ],
   "source": [
    "features[:5]"
   ]
  },
  {
   "cell_type": "code",
   "execution_count": 15,
   "id": "22201fa4",
   "metadata": {},
   "outputs": [
    {
     "data": {
      "text/plain": [
       "array([0, 0, 0, 0, 0, 0, 0, 0, 0, 0, 0, 0, 0, 0, 0, 0, 0, 0, 0, 0, 0, 0,\n",
       "       0, 0, 0, 0, 0, 0, 0, 0, 0, 0, 0, 0, 0, 0, 0, 0, 0, 0, 0, 0, 0, 0,\n",
       "       0, 1, 1, 1, 1, 1, 1, 1, 1, 1, 1, 1, 1, 1, 1, 1, 1, 1, 1, 1, 1, 1,\n",
       "       1, 1, 1, 1, 1, 1, 1, 1, 1, 1, 1, 1, 1, 1, 1, 1, 1, 1, 1, 1, 1, 1,\n",
       "       1, 1, 1, 1, 1, 1, 1, 2, 2, 2, 2, 2, 2, 2, 2, 2, 2, 2, 2, 2, 2, 2,\n",
       "       2, 2, 2, 2, 2, 2, 2, 2, 2, 2, 2, 2, 2, 2, 2, 2, 2, 2, 2, 2, 2, 2,\n",
       "       2, 2, 2, 2, 2, 2, 2, 2, 2, 2, 2, 2, 2])"
      ]
     },
     "execution_count": 15,
     "metadata": {},
     "output_type": "execute_result"
    }
   ],
   "source": [
    "target[5:]"
   ]
  },
  {
   "cell_type": "code",
   "execution_count": 16,
   "id": "ff04483e",
   "metadata": {},
   "outputs": [
    {
     "data": {
      "text/plain": [
       "array(['setosa', 'versicolor', 'virginica'], dtype='<U10')"
      ]
     },
     "execution_count": 16,
     "metadata": {},
     "output_type": "execute_result"
    }
   ],
   "source": [
    "# create a list of class names\n",
    "class_names=iris.target_names\n",
    "class_names"
   ]
  },
  {
   "cell_type": "code",
   "execution_count": 17,
   "id": "d68479dd",
   "metadata": {},
   "outputs": [],
   "source": [
    "# Create train and test data\n",
    "feature_train, feature_test, target_train, target_test=train_test_split(\n",
    "                                        features,\n",
    "                                        target,\n",
    "                                        random_state=0\n",
    "                            )"
   ]
  },
  {
   "cell_type": "code",
   "execution_count": 18,
   "id": "1cdd7ae9",
   "metadata": {},
   "outputs": [],
   "source": [
    "# create logistic Regresion\n",
    "#clasifier=LogisticRegression(max_iter=3000) --> opcional.\n",
    "# cuando contamos con una variable de respuesta con mas de dos categorias podemos hacer uno de One Versus Rest (ovr)\n",
    "# tambien es posible hacer uso del de multi_class=\"multinimomial\" especificando el max_iter que es el maximo numero\n",
    "# de iteraciones para alcanzar la convergencia.\n",
    "clasifier=LogisticRegression(random_state=0, multi_class=\"multinomial\", max_iter=3000, solver='lbfgs', penalty='l2')"
   ]
  },
  {
   "cell_type": "code",
   "execution_count": 19,
   "id": "fb6fbc73",
   "metadata": {},
   "outputs": [],
   "source": [
    "# train model. Nota: cuando se cuenta con una gran cantidad de datos, es una buena idea probar el solver: SAG:\n",
    "# gradient average descent.\n",
    "model=clasifier.fit(feature_train, target_train)"
   ]
  },
  {
   "cell_type": "code",
   "execution_count": 32,
   "id": "f7cc3bfa",
   "metadata": {},
   "outputs": [
    {
     "data": {
      "text/plain": [
       "array([[-0.41452706,  0.84926829, -2.33262725, -0.98887317],\n",
       "       [ 0.52086599, -0.29394738, -0.21689938, -0.71377827],\n",
       "       [-0.10633893, -0.55532091,  2.54952664,  1.70265144]])"
      ]
     },
     "execution_count": 32,
     "metadata": {},
     "output_type": "execute_result"
    }
   ],
   "source": [
    "model.coef_"
   ]
  },
  {
   "cell_type": "code",
   "execution_count": 37,
   "id": "b2157828",
   "metadata": {},
   "outputs": [
    {
     "data": {
      "text/plain": [
       "array([  9.24027582,   1.73601369, -10.97628952])"
      ]
     },
     "execution_count": 37,
     "metadata": {},
     "output_type": "execute_result"
    }
   ],
   "source": [
    "model.intercept_"
   ]
  },
  {
   "cell_type": "code",
   "execution_count": 65,
   "id": "1d850a33",
   "metadata": {},
   "outputs": [
    {
     "data": {
      "text/plain": [
       "array([[1.16877704e-04, 5.59146481e-02, 9.43968474e-01],\n",
       "       [1.26316440e-02, 9.60287896e-01, 2.70804598e-02],\n",
       "       [9.84389313e-01, 1.56106483e-02, 3.88631734e-08],\n",
       "       [1.25805559e-06, 2.34495220e-02, 9.76549220e-01],\n",
       "       [9.70275657e-01, 2.97241788e-02, 1.64580290e-07],\n",
       "       [2.00952957e-06, 5.97959099e-03, 9.94018399e-01],\n",
       "       [9.81935432e-01, 1.80644967e-02, 7.13506635e-08],\n",
       "       [2.83378445e-03, 7.47757782e-01, 2.49408434e-01],\n",
       "       [1.50599636e-03, 7.39140508e-01, 2.59353495e-01],\n",
       "       [2.04952833e-02, 9.35762015e-01, 4.37427020e-02],\n",
       "       [9.19502972e-05, 1.60128485e-01, 8.39779564e-01],\n",
       "       [6.95880582e-03, 8.10287280e-01, 1.82753914e-01],\n",
       "       [4.06422799e-03, 7.93846594e-01, 2.02089178e-01],\n",
       "       [3.04895549e-03, 7.60958177e-01, 2.35992868e-01],\n",
       "       [3.85953628e-03, 7.10458746e-01, 2.85681717e-01],\n",
       "       [9.82823389e-01, 1.71765542e-02, 5.72337215e-08],\n",
       "       [6.70027313e-03, 7.56223331e-01, 2.37076396e-01],\n",
       "       [1.13770502e-02, 8.44676370e-01, 1.43946579e-01],\n",
       "       [9.67687915e-01, 3.23118681e-02, 2.17426983e-07],\n",
       "       [9.82896036e-01, 1.71039040e-02, 6.02906162e-08],\n",
       "       [8.27528979e-04, 1.92650997e-01, 8.06521474e-01],\n",
       "       [1.02638243e-02, 7.10760252e-01, 2.78975924e-01],\n",
       "       [9.44085230e-01, 5.59137088e-02, 1.06130939e-06],\n",
       "       [9.75560541e-01, 2.44392890e-02, 1.70374146e-07],\n",
       "       [1.36305223e-03, 4.26052225e-01, 5.72584723e-01],\n",
       "       [9.94212681e-01, 5.78730927e-03, 9.80114721e-09],\n",
       "       [9.50170453e-01, 4.98284027e-02, 1.14436975e-06],\n",
       "       [1.06797762e-02, 9.00954165e-01, 8.83660588e-02],\n",
       "       [1.40916997e-01, 8.52757284e-01, 6.32571842e-03],\n",
       "       [9.61543638e-01, 3.84559072e-02, 4.55264507e-07],\n",
       "       [9.88502471e-05, 1.16257743e-01, 8.83643407e-01],\n",
       "       [1.19062587e-02, 6.83820367e-01, 3.04273374e-01],\n",
       "       [9.68103960e-01, 3.18958887e-02, 1.51765491e-07],\n",
       "       [1.27877900e-03, 3.57856306e-01, 6.40864915e-01],\n",
       "       [1.48292799e-05, 3.38989025e-02, 9.66086268e-01],\n",
       "       [4.79755064e-02, 8.80298925e-01, 7.17255686e-02],\n",
       "       [9.44667279e-01, 5.53323268e-02, 3.93913110e-07],\n",
       "       [5.99618101e-04, 3.11162558e-01, 6.88237823e-01]])"
      ]
     },
     "execution_count": 65,
     "metadata": {},
     "output_type": "execute_result"
    }
   ],
   "source": [
    "target_predict_proba=model.predict_proba(feature_test)\n",
    "target_predict_proba"
   ]
  },
  {
   "cell_type": "code",
   "execution_count": 53,
   "id": "9cc13025",
   "metadata": {},
   "outputs": [
    {
     "data": {
      "text/plain": [
       "numpy.ndarray"
      ]
     },
     "execution_count": 53,
     "metadata": {},
     "output_type": "execute_result"
    }
   ],
   "source": [
    "target_predict=model.predict(feature_test)\n",
    "type(target_predict)"
   ]
  },
  {
   "cell_type": "code",
   "execution_count": 75,
   "id": "348fc420",
   "metadata": {},
   "outputs": [
    {
     "data": {
      "text/plain": [
       "array([[5.8, 2.8, 5.1, 2.4],\n",
       "       [6. , 2.2, 4. , 1. ],\n",
       "       [5.5, 4.2, 1.4, 0.2],\n",
       "       [7.3, 2.9, 6.3, 1.8],\n",
       "       [5. , 3.4, 1.5, 0.2]])"
      ]
     },
     "execution_count": 75,
     "metadata": {},
     "output_type": "execute_result"
    }
   ],
   "source": [
    "feature_test[:5]"
   ]
  },
  {
   "cell_type": "code",
   "execution_count": 80,
   "id": "daabb0c6",
   "metadata": {},
   "outputs": [
    {
     "name": "stdout",
     "output_type": "stream",
     "text": [
      "0.15474255199707446\n",
      "0.8452574480029256\n"
     ]
    }
   ],
   "source": [
    "probabilidad=1/(1+(1*np.exp(-(9.24027582-0.41452706*6+0.84926829*2.2-2.33262725*4-0.98887317*1))))\n",
    "print(probabilidad)\n",
    "print(1-probabilidad)"
   ]
  },
  {
   "cell_type": "code",
   "execution_count": 54,
   "id": "dd666662",
   "metadata": {},
   "outputs": [
    {
     "data": {
      "text/plain": [
       "array([[13,  0,  0],\n",
       "       [ 0, 15,  1],\n",
       "       [ 0,  0,  9]], dtype=int64)"
      ]
     },
     "execution_count": 54,
     "metadata": {},
     "output_type": "execute_result"
    }
   ],
   "source": [
    "matrix=confusion_matrix(target_test, target_predict)\n",
    "matrix"
   ]
  },
  {
   "cell_type": "code",
   "execution_count": 23,
   "id": "59cce07e",
   "metadata": {},
   "outputs": [],
   "source": [
    "# create dataframe\n",
    "dataframe=pd.DataFrame(matrix, index=class_names, columns=class_names)"
   ]
  },
  {
   "cell_type": "code",
   "execution_count": 25,
   "id": "eaaead09",
   "metadata": {},
   "outputs": [
    {
     "data": {
      "text/plain": [
       "<AxesSubplot:>"
      ]
     },
     "execution_count": 25,
     "metadata": {},
     "output_type": "execute_result"
    },
    {
     "data": {
      "image/png": "[encoded data removed]",
      "text/plain": [
       "<Figure size 432x288 with 1 Axes>"
      ]
     },
     "metadata": {
      "needs_background": "light"
     },
     "output_type": "display_data"
    }
   ],
   "source": [
    "# create headmap\n",
    "sns.heatmap(dataframe, annot=True, cbar=None, cmap=\"Blues\")"
   ]
  },
  {
   "cell_type": "code",
   "execution_count": 26,
   "id": "85d0f127",
   "metadata": {},
   "outputs": [
    {
     "name": "stdout",
     "output_type": "stream",
     "text": [
      "Acucuracy of model: 0.9736842105263158\n"
     ]
    }
   ],
   "source": [
    "accuracy_model=model.score(feature_test, target_test)\n",
    "print(f\"Acucuracy of model: {accuracy_model}\")"
   ]
  },
  {
   "cell_type": "code",
   "execution_count": 29,
   "id": "590c195d",
   "metadata": {},
   "outputs": [
    {
     "name": "stdout",
     "output_type": "stream",
     "text": [
      "de los 38 registros utilizados como test, fueron correctamente clasificados 37\n"
     ]
    }
   ],
   "source": [
    "print(f'de los {len(feature_test)} registros utilizados como test, fueron correctamente clasificados 37')"
   ]
  }
 ],
 "metadata": {
  "kernelspec": {
   "display_name": "Python ('tf')",
   "language": "python",
   "name": "python3"
  },
  "language_info": {
   "codemirror_mode": {
    "name": "ipython",
    "version": 3
   },
   "file_extension": ".py",
   "mimetype": "text/x-python",
   "name": "python",
   "nbconvert_exporter": "python",
   "pygments_lexer": "ipython3",
   "version": "3.8.8"
  },
  "vscode": {
   "interpreter": {
    "hash": "25a19fbe0a9132dfb9279d48d161753c6352f8f9478c2e74383d340069b907c3"
   }
  }
 },
 "nbformat": 4,
 "nbformat_minor": 5
}
