{
 "cells": [
  {
   "cell_type": "code",
   "execution_count": 1,
   "id": "ce6cf720",
   "metadata": {},
   "outputs": [],
   "source": [
    "import numpy as np\n",
    "import matplotlib.pyplot as plt\n",
    "import pandas as pd\n",
    "from sklearn import datasets\n",
    "from sklearn.neighbors import KNeighborsClassifier\n",
    "from sklearn.preprocessing import StandardScaler\n",
    "from sklearn.model_selection import train_test_split\n",
    "from sklearn.metrics import accuracy_score\n",
    "import seaborn as sns\n",
    "from sklearn.metrics import confusion_matrix\n",
    "from sklearn.metrics import classification_report"
   ]
  },
  {
   "cell_type": "code",
   "execution_count": 2,
   "id": "3d717de1",
   "metadata": {},
   "outputs": [],
   "source": [
    "# load data\n",
    "iris=datasets.load_iris()\n",
    "X=iris.data\n",
    "y=iris.target"
   ]
  },
  {
   "cell_type": "code",
   "execution_count": 5,
   "id": "e0e68a03",
   "metadata": {},
   "outputs": [
    {
     "data": {
      "text/plain": [
       "array([[5.1, 3.5, 1.4, 0.2],\n",
       "       [4.9, 3. , 1.4, 0.2],\n",
       "       [4.7, 3.2, 1.3, 0.2],\n",
       "       [4.6, 3.1, 1.5, 0.2],\n",
       "       [5. , 3.6, 1.4, 0.2]])"
      ]
     },
     "execution_count": 5,
     "metadata": {},
     "output_type": "execute_result"
    }
   ],
   "source": [
    "X[:5]"
   ]
  },
  {
   "cell_type": "code",
   "execution_count": 6,
   "id": "56518296",
   "metadata": {},
   "outputs": [
    {
     "data": {
      "text/plain": [
       "array([0, 0, 0, 0, 0])"
      ]
     },
     "execution_count": 6,
     "metadata": {},
     "output_type": "execute_result"
    }
   ],
   "source": [
    "y[:5]"
   ]
  },
  {
   "cell_type": "code",
   "execution_count": 19,
   "id": "b639f175",
   "metadata": {},
   "outputs": [
    {
     "data": {
      "text/plain": [
       "(array([0, 1, 2]), array([50, 50, 50], dtype=int64))"
      ]
     },
     "execution_count": 19,
     "metadata": {},
     "output_type": "execute_result"
    }
   ],
   "source": [
    "# cada una de las categorias se encuentra balanceada.\n",
    "np.unique(y, return_counts=True)"
   ]
  },
  {
   "cell_type": "code",
   "execution_count": 8,
   "id": "cf492a33",
   "metadata": {},
   "outputs": [
    {
     "name": "stdout",
     "output_type": "stream",
     "text": [
      "<class 'numpy.ndarray'>\n",
      "<class 'numpy.ndarray'>\n"
     ]
    }
   ],
   "source": [
    "print(type(X))\n",
    "print(type(y))"
   ]
  },
  {
   "cell_type": "code",
   "execution_count": 9,
   "id": "3fd741c0",
   "metadata": {},
   "outputs": [],
   "source": [
    "# make the split\n",
    "X_train, X_test, y_train, y_test=train_test_split(\n",
    "                            X,\n",
    "                            y,\n",
    "                            test_size=0.2,\n",
    "                            random_state=0,\n",
    ")"
   ]
  },
  {
   "cell_type": "code",
   "execution_count": 20,
   "id": "8a49a71f",
   "metadata": {},
   "outputs": [
    {
     "data": {
      "text/plain": [
       "(array([0, 1, 2]), array([11, 13,  6], dtype=int64))"
      ]
     },
     "execution_count": 20,
     "metadata": {},
     "output_type": "execute_result"
    }
   ],
   "source": [
    "np.unique(y_test, return_counts=True)"
   ]
  },
  {
   "cell_type": "code",
   "execution_count": 10,
   "id": "b6b5dd19",
   "metadata": {},
   "outputs": [],
   "source": [
    "# create standarized\n",
    "standardizer=StandardScaler()\n",
    "X_train_std=standardizer.fit_transform(X_train)"
   ]
  },
  {
   "cell_type": "code",
   "execution_count": 11,
   "id": "41f48a6f",
   "metadata": {},
   "outputs": [
    {
     "data": {
      "text/plain": [
       "array([[ 0.61303014,  0.10850105,  0.94751783,  0.736072  ],\n",
       "       [-0.56776627, -0.12400121,  0.38491447,  0.34752959],\n",
       "       [-0.80392556,  1.03851009, -1.30289562, -1.33615415],\n",
       "       [ 0.25879121, -0.12400121,  0.60995581,  0.736072  ],\n",
       "       [ 0.61303014, -0.58900572,  1.00377816,  1.25412853]])"
      ]
     },
     "execution_count": 11,
     "metadata": {},
     "output_type": "execute_result"
    }
   ],
   "source": [
    "X_train_std[:5]"
   ]
  },
  {
   "cell_type": "code",
   "execution_count": 12,
   "id": "096d3fe0",
   "metadata": {},
   "outputs": [],
   "source": [
    "# Train the model\n",
    "clasifier=KNeighborsClassifier(n_neighbors=5)\n",
    "model_knn=clasifier.fit(X_train_std, y_train)"
   ]
  },
  {
   "cell_type": "code",
   "execution_count": 13,
   "id": "84b71bff",
   "metadata": {},
   "outputs": [],
   "source": [
    "# for prediction we need scale data test\n",
    "standardizer=StandardScaler()\n",
    "X_test_std=standardizer.fit_transform(X_test)"
   ]
  },
  {
   "cell_type": "code",
   "execution_count": 14,
   "id": "072a2980",
   "metadata": {},
   "outputs": [
    {
     "data": {
      "text/plain": [
       "array([[ 0.14956537, -0.6062277 ,  0.94476368,  1.91948971],\n",
       "       [ 0.43000045, -1.93697143,  0.28422975, -0.10102577],\n",
       "       [-0.27108724,  2.49884101, -1.27703226, -1.25560605],\n",
       "       [ 2.25282843, -0.38443708,  1.66534614,  1.0535545 ],\n",
       "       [-0.97217492,  0.72451603, -1.21698372, -1.25560605]])"
      ]
     },
     "execution_count": 14,
     "metadata": {},
     "output_type": "execute_result"
    }
   ],
   "source": [
    "X_test_std[:5]"
   ]
  },
  {
   "cell_type": "code",
   "execution_count": 15,
   "id": "4cffc4b5",
   "metadata": {},
   "outputs": [
    {
     "data": {
      "text/plain": [
       "array([2, 1, 0, 2, 0, 2, 0, 1, 1, 1, 2, 1, 1, 2, 2, 0, 2, 1, 0, 0, 2, 2,\n",
       "       0, 0, 2, 0, 0, 1, 1, 0])"
      ]
     },
     "execution_count": 15,
     "metadata": {},
     "output_type": "execute_result"
    }
   ],
   "source": [
    "y_predict=model_knn.predict(X_test_std)\n",
    "y_predict"
   ]
  },
  {
   "cell_type": "code",
   "execution_count": 17,
   "id": "2dfb60e3",
   "metadata": {},
   "outputs": [
    {
     "data": {
      "text/plain": [
       "array([[0. , 0. , 1. ],\n",
       "       [0. , 0.8, 0.2],\n",
       "       [1. , 0. , 0. ],\n",
       "       [0. , 0. , 1. ],\n",
       "       [1. , 0. , 0. ]])"
      ]
     },
     "execution_count": 17,
     "metadata": {},
     "output_type": "execute_result"
    }
   ],
   "source": [
    "y_predict_prob=model_knn.predict_proba(X_test_std)\n",
    "y_predict_prob[:5]"
   ]
  },
  {
   "cell_type": "code",
   "execution_count": 21,
   "id": "f4f77137",
   "metadata": {},
   "outputs": [
    {
     "data": {
      "text/plain": [
       "Text(0.5, 15.0, 'Prediccion')"
      ]
     },
     "execution_count": 21,
     "metadata": {},
     "output_type": "execute_result"
    },
    {
     "data": {
      "image/png": "[encoded data removed]",
      "text/plain": [
       "<Figure size 432x288 with 1 Axes>"
      ]
     },
     "metadata": {
      "needs_background": "light"
     },
     "output_type": "display_data"
    }
   ],
   "source": [
    "matrix=confusion_matrix(y_test, y_predict)\n",
    "matrix\n",
    "class_names=['Setosa','Versicolour','Virginica']\n",
    "# create dataframe\n",
    "dataframe_graf=pd.DataFrame(matrix, index=class_names, columns=class_names)\n",
    "# create headmap\n",
    "sns.heatmap(dataframe_graf, annot=True, cbar=None, cmap=\"Blues\")\n",
    "plt.title(\"Matriz de clasificación\")\n",
    "plt.ylabel(\"Observado\")\n",
    "plt.xlabel(\"Prediccion\")\n"
   ]
  },
  {
   "cell_type": "code",
   "execution_count": 22,
   "id": "396da9f3",
   "metadata": {},
   "outputs": [
    {
     "name": "stdout",
     "output_type": "stream",
     "text": [
      "Acucuracy of model with sklearn: 0.8666666666666667\n"
     ]
    }
   ],
   "source": [
    "accuracy_sklearn=accuracy_score(y_test,y_predict)\n",
    "print(f\"Acucuracy of model with sklearn: {accuracy_sklearn}\")"
   ]
  },
  {
   "cell_type": "code",
   "execution_count": 24,
   "id": "9764cace",
   "metadata": {},
   "outputs": [
    {
     "name": "stdout",
     "output_type": "stream",
     "text": [
      "              precision    recall  f1-score   support\n",
      "\n",
      "           0       1.00      1.00      1.00        11\n",
      "           1       1.00      0.69      0.82        13\n",
      "           2       0.60      1.00      0.75         6\n",
      "\n",
      "    accuracy                           0.87        30\n",
      "   macro avg       0.87      0.90      0.86        30\n",
      "weighted avg       0.92      0.87      0.87        30\n",
      "\n"
     ]
    }
   ],
   "source": [
    "print(classification_report(y_test, y_predict))"
   ]
  },
  {
   "cell_type": "markdown",
   "id": "0f4efb87",
   "metadata": {},
   "source": [
    "## Pipeline para encontra el mejor k"
   ]
  },
  {
   "cell_type": "code",
   "execution_count": 47,
   "id": "b18db636",
   "metadata": {},
   "outputs": [],
   "source": [
    "# import libraries\n",
    "from sklearn.pipeline import Pipeline\n",
    "from sklearn.model_selection import GridSearchCV"
   ]
  },
  {
   "cell_type": "code",
   "execution_count": 48,
   "id": "0b9fa418",
   "metadata": {},
   "outputs": [],
   "source": [
    "# create a pipeline\n",
    "pipe=Pipeline([(\"standardizer\", standardizer),(\"knn\", clasifier)])"
   ]
  },
  {
   "cell_type": "code",
   "execution_count": 49,
   "id": "872c8796",
   "metadata": {},
   "outputs": [],
   "source": [
    "param_grid = {\n",
    "    'knn__n_neighbors': [1,2,3,5,7,8,9,10,11,12,13,14,15,16,17,18,19,20,21,22,23,24,25,26]\n",
    "}"
   ]
  },
  {
   "cell_type": "code",
   "execution_count": 50,
   "id": "d746ab49",
   "metadata": {},
   "outputs": [],
   "source": [
    "# create GridSearch\n",
    "best_clasifier=GridSearchCV(pipe, param_grid, cv=5, verbose=0).fit(X_train,y_train)"
   ]
  },
  {
   "cell_type": "code",
   "execution_count": 51,
   "id": "9edfb7b3",
   "metadata": {},
   "outputs": [
    {
     "data": {
      "text/plain": [
       "Pipeline(steps=[('standardizer', StandardScaler()),\n",
       "                ('knn', KNeighborsClassifier(n_neighbors=13))])"
      ]
     },
     "execution_count": 51,
     "metadata": {},
     "output_type": "execute_result"
    }
   ],
   "source": [
    "best_clasifier.best_estimator_"
   ]
  },
  {
   "cell_type": "code",
   "execution_count": 52,
   "id": "5b7af9e2",
   "metadata": {},
   "outputs": [],
   "source": [
    "best_model=best_clasifier.fit(X_train_std,y_train)"
   ]
  },
  {
   "cell_type": "code",
   "execution_count": 53,
   "id": "c53c38c0",
   "metadata": {},
   "outputs": [],
   "source": [
    "prediccionBestModel=best_model.predict(X_test_std)"
   ]
  },
  {
   "cell_type": "code",
   "execution_count": 54,
   "id": "15079e90",
   "metadata": {},
   "outputs": [
    {
     "data": {
      "text/plain": [
       "Text(0.5, 15.0, 'Prediccion')"
      ]
     },
     "execution_count": 54,
     "metadata": {},
     "output_type": "execute_result"
    },
    {
     "data": {
      "image/png": "[encoded data removed]",
      "text/plain": [
       "<Figure size 432x288 with 1 Axes>"
      ]
     },
     "metadata": {
      "needs_background": "light"
     },
     "output_type": "display_data"
    }
   ],
   "source": [
    "matrix=confusion_matrix(y_test, prediccionBestModel)\n",
    "matrix\n",
    "class_names=['Setosa','Versicolour','Virginica']\n",
    "# create dataframe\n",
    "dataframe_graf=pd.DataFrame(matrix, index=class_names, columns=class_names)\n",
    "# create headmap\n",
    "sns.heatmap(dataframe_graf, annot=True, cbar=None, cmap=\"Blues\")\n",
    "plt.title(\"Matriz de clasificación\")\n",
    "plt.ylabel(\"Observado\")\n",
    "plt.xlabel(\"Prediccion\")"
   ]
  },
  {
   "cell_type": "code",
   "execution_count": 55,
   "id": "7748c419",
   "metadata": {},
   "outputs": [
    {
     "name": "stdout",
     "output_type": "stream",
     "text": [
      "              precision    recall  f1-score   support\n",
      "\n",
      "           0       1.00      1.00      1.00        11\n",
      "           1       1.00      0.54      0.70        13\n",
      "           2       0.50      1.00      0.67         6\n",
      "\n",
      "    accuracy                           0.80        30\n",
      "   macro avg       0.83      0.85      0.79        30\n",
      "weighted avg       0.90      0.80      0.80        30\n",
      "\n"
     ]
    }
   ],
   "source": [
    "print(classification_report(y_test, prediccionBestModel))"
   ]
  }
 ],
 "metadata": {
  "kernelspec": {
   "display_name": "Python ('tf')",
   "language": "python",
   "name": "python3"
  },
  "language_info": {
   "codemirror_mode": {
    "name": "ipython",
    "version": 3
   },
   "file_extension": ".py",
   "mimetype": "text/x-python",
   "name": "python",
   "nbconvert_exporter": "python",
   "pygments_lexer": "ipython3",
   "version": "3.8.8"
  },
  "vscode": {
   "interpreter": {
    "hash": "25a19fbe0a9132dfb9279d48d161753c6352f8f9478c2e74383d340069b907c3"
   }
  }
 },
 "nbformat": 4,
 "nbformat_minor": 5
}
