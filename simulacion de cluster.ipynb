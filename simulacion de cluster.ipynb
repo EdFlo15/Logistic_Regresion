{
 "cells": [
  {
   "cell_type": "code",
   "execution_count": 3,
   "metadata": {},
   "outputs": [],
   "source": [
    "from sklearn.datasets import make_blobs\n",
    "import matplotlib.pyplot as plt\n",
    "import pandas as pd"
   ]
  },
  {
   "cell_type": "code",
   "execution_count": 29,
   "metadata": {},
   "outputs": [],
   "source": [
    "feature, target=make_blobs(\n",
    "                n_samples=500,\n",
    "                n_features=2,\n",
    "                centers=3,\n",
    "                cluster_std=1,\n",
    "                shuffle=True,\n",
    "                random_state=1)\n",
    "                "
   ]
  },
  {
   "cell_type": "code",
   "execution_count": 30,
   "metadata": {},
   "outputs": [
    {
     "name": "stdout",
     "output_type": "stream",
     "text": [
      "<class 'numpy.ndarray'>\n",
      "<class 'numpy.ndarray'>\n"
     ]
    }
   ],
   "source": [
    "print(type(feature))\n",
    "print(type(target))"
   ]
  },
  {
   "cell_type": "code",
   "execution_count": 31,
   "metadata": {},
   "outputs": [
    {
     "name": "stdout",
     "output_type": "stream",
     "text": [
      "(500, 2)\n",
      "(500,)\n"
     ]
    }
   ],
   "source": [
    "print(feature.shape)\n",
    "print(target.shape)"
   ]
  },
  {
   "cell_type": "code",
   "execution_count": 32,
   "metadata": {},
   "outputs": [
    {
     "data": {
      "image/png": "[encoded data removed]",
      "text/plain": [
       "<Figure size 432x288 with 1 Axes>"
      ]
     },
     "metadata": {
      "needs_background": "light"
     },
     "output_type": "display_data"
    }
   ],
   "source": [
    "plt.scatter(feature[:,0], feature[:,1], c=target)\n",
    "plt.show()"
   ]
  },
  {
   "cell_type": "code",
   "execution_count": 33,
   "metadata": {},
   "outputs": [
    {
     "data": {
      "text/html": [
       "<div>\n",
       "<style scoped>\n",
       "    .dataframe tbody tr th:only-of-type {\n",
       "        vertical-align: middle;\n",
       "    }\n",
       "\n",
       "    .dataframe tbody tr th {\n",
       "        vertical-align: top;\n",
       "    }\n",
       "\n",
       "    .dataframe thead th {\n",
       "        text-align: right;\n",
       "    }\n",
       "</style>\n",
       "<table border=\"1\" class=\"dataframe\">\n",
       "  <thead>\n",
       "    <tr style=\"text-align: right;\">\n",
       "      <th></th>\n",
       "      <th>0</th>\n",
       "      <th>1</th>\n",
       "    </tr>\n",
       "  </thead>\n",
       "  <tbody>\n",
       "    <tr>\n",
       "      <th>0</th>\n",
       "      <td>-10.140908</td>\n",
       "      <td>-2.920365</td>\n",
       "    </tr>\n",
       "    <tr>\n",
       "      <th>1</th>\n",
       "      <td>-10.849168</td>\n",
       "      <td>-2.952467</td>\n",
       "    </tr>\n",
       "    <tr>\n",
       "      <th>2</th>\n",
       "      <td>-7.871060</td>\n",
       "      <td>-8.104166</td>\n",
       "    </tr>\n",
       "    <tr>\n",
       "      <th>3</th>\n",
       "      <td>0.531140</td>\n",
       "      <td>2.510129</td>\n",
       "    </tr>\n",
       "    <tr>\n",
       "      <th>4</th>\n",
       "      <td>-5.995896</td>\n",
       "      <td>-8.362981</td>\n",
       "    </tr>\n",
       "  </tbody>\n",
       "</table>\n",
       "</div>"
      ],
      "text/plain": [
       "           0         1\n",
       "0 -10.140908 -2.920365\n",
       "1 -10.849168 -2.952467\n",
       "2  -7.871060 -8.104166\n",
       "3   0.531140  2.510129\n",
       "4  -5.995896 -8.362981"
      ]
     },
     "execution_count": 33,
     "metadata": {},
     "output_type": "execute_result"
    }
   ],
   "source": [
    "df_features=pd.DataFrame(feature)\n",
    "df_features.head()"
   ]
  },
  {
   "cell_type": "code",
   "execution_count": 34,
   "metadata": {},
   "outputs": [
    {
     "data": {
      "text/html": [
       "<div>\n",
       "<style scoped>\n",
       "    .dataframe tbody tr th:only-of-type {\n",
       "        vertical-align: middle;\n",
       "    }\n",
       "\n",
       "    .dataframe tbody tr th {\n",
       "        vertical-align: top;\n",
       "    }\n",
       "\n",
       "    .dataframe thead th {\n",
       "        text-align: right;\n",
       "    }\n",
       "</style>\n",
       "<table border=\"1\" class=\"dataframe\">\n",
       "  <thead>\n",
       "    <tr style=\"text-align: right;\">\n",
       "      <th></th>\n",
       "      <th>feature1</th>\n",
       "      <th>feature2</th>\n",
       "    </tr>\n",
       "  </thead>\n",
       "  <tbody>\n",
       "    <tr>\n",
       "      <th>0</th>\n",
       "      <td>-10.140908</td>\n",
       "      <td>-2.920365</td>\n",
       "    </tr>\n",
       "    <tr>\n",
       "      <th>1</th>\n",
       "      <td>-10.849168</td>\n",
       "      <td>-2.952467</td>\n",
       "    </tr>\n",
       "    <tr>\n",
       "      <th>2</th>\n",
       "      <td>-7.871060</td>\n",
       "      <td>-8.104166</td>\n",
       "    </tr>\n",
       "    <tr>\n",
       "      <th>3</th>\n",
       "      <td>0.531140</td>\n",
       "      <td>2.510129</td>\n",
       "    </tr>\n",
       "    <tr>\n",
       "      <th>4</th>\n",
       "      <td>-5.995896</td>\n",
       "      <td>-8.362981</td>\n",
       "    </tr>\n",
       "  </tbody>\n",
       "</table>\n",
       "</div>"
      ],
      "text/plain": [
       "    feature1  feature2\n",
       "0 -10.140908 -2.920365\n",
       "1 -10.849168 -2.952467\n",
       "2  -7.871060 -8.104166\n",
       "3   0.531140  2.510129\n",
       "4  -5.995896 -8.362981"
      ]
     },
     "execution_count": 34,
     "metadata": {},
     "output_type": "execute_result"
    }
   ],
   "source": [
    "df3=df_features.rename(columns={0:'feature1',1:'feature2'})\n",
    "df3.head()"
   ]
  },
  {
   "cell_type": "code",
   "execution_count": 36,
   "metadata": {},
   "outputs": [
    {
     "data": {
      "text/html": [
       "<div>\n",
       "<style scoped>\n",
       "    .dataframe tbody tr th:only-of-type {\n",
       "        vertical-align: middle;\n",
       "    }\n",
       "\n",
       "    .dataframe tbody tr th {\n",
       "        vertical-align: top;\n",
       "    }\n",
       "\n",
       "    .dataframe thead th {\n",
       "        text-align: right;\n",
       "    }\n",
       "</style>\n",
       "<table border=\"1\" class=\"dataframe\">\n",
       "  <thead>\n",
       "    <tr style=\"text-align: right;\">\n",
       "      <th></th>\n",
       "      <th>feature1</th>\n",
       "      <th>feature2</th>\n",
       "    </tr>\n",
       "    <tr>\n",
       "      <th>id</th>\n",
       "      <th></th>\n",
       "      <th></th>\n",
       "    </tr>\n",
       "  </thead>\n",
       "  <tbody>\n",
       "    <tr>\n",
       "      <th>0</th>\n",
       "      <td>-10.140908</td>\n",
       "      <td>-2.920365</td>\n",
       "    </tr>\n",
       "    <tr>\n",
       "      <th>1</th>\n",
       "      <td>-10.849168</td>\n",
       "      <td>-2.952467</td>\n",
       "    </tr>\n",
       "    <tr>\n",
       "      <th>2</th>\n",
       "      <td>-7.871060</td>\n",
       "      <td>-8.104166</td>\n",
       "    </tr>\n",
       "    <tr>\n",
       "      <th>3</th>\n",
       "      <td>0.531140</td>\n",
       "      <td>2.510129</td>\n",
       "    </tr>\n",
       "    <tr>\n",
       "      <th>4</th>\n",
       "      <td>-5.995896</td>\n",
       "      <td>-8.362981</td>\n",
       "    </tr>\n",
       "  </tbody>\n",
       "</table>\n",
       "</div>"
      ],
      "text/plain": [
       "     feature1  feature2\n",
       "id                     \n",
       "0  -10.140908 -2.920365\n",
       "1  -10.849168 -2.952467\n",
       "2   -7.871060 -8.104166\n",
       "3    0.531140  2.510129\n",
       "4   -5.995896 -8.362981"
      ]
     },
     "execution_count": 36,
     "metadata": {},
     "output_type": "execute_result"
    }
   ],
   "source": [
    "df3.index.name='id'\n",
    "df3.head()"
   ]
  },
  {
   "cell_type": "code",
   "execution_count": 37,
   "metadata": {},
   "outputs": [],
   "source": [
    "df3.to_csv(\"base.csv\")"
   ]
  },
  {
   "cell_type": "markdown",
   "metadata": {},
   "source": [
    "realizar la clusterizacion"
   ]
  },
  {
   "cell_type": "code",
   "execution_count": 38,
   "metadata": {},
   "outputs": [],
   "source": [
    "from sklearn.cluster import KMeans"
   ]
  },
  {
   "cell_type": "code",
   "execution_count": 51,
   "metadata": {},
   "outputs": [
    {
     "name": "stderr",
     "output_type": "stream",
     "text": [
      "c:\\Users\\jeflores\\anaconda3\\lib\\site-packages\\sklearn\\cluster\\_kmeans.py:881: UserWarning: KMeans is known to have a memory leak on Windows with MKL, when there are less chunks than available threads. You can avoid it by setting the environment variable OMP_NUM_THREADS=2.\n",
      "  warnings.warn(\n"
     ]
    },
    {
     "data": {
      "text/plain": [
       "[20941.962705862556,\n",
       " 3288.418308495543,\n",
       " 958.8169025149342,\n",
       " 828.4665452100294,\n",
       " 722.3753620537134,\n",
       " 630.7824727762114,\n",
       " 549.5409125223415,\n",
       " 479.8718270358058,\n",
       " 423.3374623136918,\n",
       " 389.7125996993701]"
      ]
     },
     "execution_count": 51,
     "metadata": {},
     "output_type": "execute_result"
    }
   ],
   "source": [
    "wcss = [] \n",
    "for number_of_clusters in range(1, 11): \n",
    "    kmeans = KMeans(n_clusters = number_of_clusters, random_state = 42)\n",
    "    kmeans.fit(df3) \n",
    "    wcss.append(kmeans.inertia_)\n",
    "wcss"
   ]
  },
  {
   "cell_type": "code",
   "execution_count": 52,
   "metadata": {},
   "outputs": [
    {
     "data": {
      "text/plain": [
       "[<matplotlib.lines.Line2D at 0x1f55ac17160>]"
      ]
     },
     "execution_count": 52,
     "metadata": {},
     "output_type": "execute_result"
    },
    {
     "data": {
      "image/png": "[encoded data removed]",
      "text/plain": [
       "<Figure size 432x288 with 1 Axes>"
      ]
     },
     "metadata": {
      "needs_background": "light"
     },
     "output_type": "display_data"
    }
   ],
   "source": [
    "ks = [1, 2, 3, 4, 5 , 6 , 7 , 8, 9, 10]\n",
    "plt.plot(ks, wcss)"
   ]
  },
  {
   "cell_type": "code",
   "execution_count": 53,
   "metadata": {},
   "outputs": [],
   "source": [
    "kmeans = KMeans(n_clusters=3, random_state=0).fit(df3)"
   ]
  },
  {
   "cell_type": "code",
   "execution_count": 54,
   "metadata": {},
   "outputs": [
    {
     "data": {
      "text/plain": [
       "array([2, 2, 0, 1, 0, 1, 2, 0, 2, 0, 0, 0, 0, 1, 2, 0, 1, 0, 1, 0, 2, 0,\n",
       "       2, 1, 0, 0, 1, 1, 2, 2, 2, 1, 2, 2, 2, 2, 1, 2, 2, 1, 0, 0, 1, 0,\n",
       "       0, 2, 2, 0, 1, 1, 1, 0, 0, 0, 1, 0, 2, 2, 2, 1, 1, 1, 1, 2, 1, 2,\n",
       "       0, 2, 2, 0, 0, 1, 0, 2, 0, 2, 2, 0, 0, 1, 2, 1, 0, 1, 1, 1, 1, 1,\n",
       "       2, 0, 1, 2, 2, 0, 1, 2, 2, 0, 2, 1, 1, 2, 1, 1, 1, 2, 2, 1, 1, 2,\n",
       "       2, 2, 1, 1, 1, 1, 1, 0, 1, 0, 0, 2, 0, 2, 0, 1, 1, 2, 2, 2, 1, 1,\n",
       "       2, 0, 0, 2, 1, 0, 1, 1, 2, 2, 2, 1, 1, 1, 0, 2, 0, 0, 0, 1, 1, 0,\n",
       "       1, 0, 0, 2, 2, 1, 2, 1, 1, 1, 0, 0, 0, 0, 1, 2, 1, 2, 0, 1, 2, 0,\n",
       "       2, 0, 2, 0, 1, 1, 0, 2, 0, 0, 2, 2, 0, 1, 1, 2, 0, 0, 1, 0, 2, 0,\n",
       "       1, 2, 1, 0, 2, 2, 2, 2, 0, 0, 2, 2, 2, 0, 0, 2, 2, 1, 2, 1, 0, 2,\n",
       "       2, 0, 2, 2, 1, 0, 2, 1, 0, 1, 2, 2, 1, 1, 2, 0, 1, 0, 0, 1, 0, 0,\n",
       "       0, 2, 0, 1, 0, 1, 0, 1, 1, 0, 0, 1, 2, 1, 0, 2, 1, 0, 1, 1, 1, 1,\n",
       "       0, 0, 2, 2, 2, 1, 0, 1, 1, 0, 1, 2, 0, 1, 2, 1, 2, 0, 1, 0, 1, 1,\n",
       "       0, 2, 2, 1, 0, 0, 0, 2, 1, 0, 2, 2, 0, 2, 2, 2, 2, 2, 0, 2, 0, 0,\n",
       "       1, 1, 0, 0, 0, 1, 1, 0, 2, 1, 1, 0, 2, 1, 1, 0, 1, 1, 1, 0, 0, 2,\n",
       "       1, 2, 0, 0, 1, 1, 0, 0, 1, 0, 0, 1, 1, 2, 1, 1, 1, 1, 2, 2, 0, 1,\n",
       "       1, 0, 0, 1, 2, 1, 0, 1, 2, 0, 2, 1, 0, 0, 0, 1, 2, 0, 2, 2, 2, 2,\n",
       "       2, 2, 1, 2, 1, 1, 2, 1, 0, 1, 0, 2, 1, 2, 1, 2, 0, 1, 2, 2, 2, 1,\n",
       "       1, 0, 2, 0, 1, 0, 0, 0, 0, 0, 2, 2, 2, 0, 2, 2, 2, 1, 2, 1, 2, 0,\n",
       "       1, 2, 0, 1, 0, 0, 1, 1, 2, 0, 2, 0, 2, 1, 2, 0, 1, 2, 2, 2, 1, 1,\n",
       "       0, 2, 0, 0, 2, 2, 2, 0, 0, 0, 0, 0, 0, 2, 0, 2, 2, 0, 1, 1, 0, 2,\n",
       "       0, 1, 1, 1, 2, 0, 2, 0, 1, 1, 0, 2, 1, 0, 1, 2, 0, 1, 1, 2, 2, 0,\n",
       "       2, 1, 1, 2, 2, 0, 1, 1, 0, 2, 2, 2, 0, 0, 1, 2])"
      ]
     },
     "execution_count": 54,
     "metadata": {},
     "output_type": "execute_result"
    }
   ],
   "source": [
    "etiquetas=kmeans.labels_\n",
    "etiquetas"
   ]
  },
  {
   "cell_type": "code",
   "execution_count": 55,
   "metadata": {},
   "outputs": [
    {
     "data": {
      "image/png": "[encoded data removed]",
      "text/plain": [
       "<Figure size 432x288 with 1 Axes>"
      ]
     },
     "metadata": {
      "needs_background": "light"
     },
     "output_type": "display_data"
    }
   ],
   "source": [
    "plt.scatter(feature[:,0], feature[:,1], c=etiquetas)\n",
    "plt.show()"
   ]
  }
 ],
 "metadata": {
  "kernelspec": {
   "display_name": "Python 3.8.8 ('base')",
   "language": "python",
   "name": "python3"
  },
  "language_info": {
   "codemirror_mode": {
    "name": "ipython",
    "version": 3
   },
   "file_extension": ".py",
   "mimetype": "text/x-python",
   "name": "python",
   "nbconvert_exporter": "python",
   "pygments_lexer": "ipython3",
   "version": "3.8.8"
  },
  "orig_nbformat": 4,
  "vscode": {
   "interpreter": {
    "hash": "d5bb653f15b4da37892e9a3ff7979f6125a34fcd2cef53933a016a385a1560f3"
   }
  }
 },
 "nbformat": 4,
 "nbformat_minor": 2
}
