{
 "cells": [
  {
   "cell_type": "markdown",
   "metadata": {},
   "source": [
    "### Obteniendo coordenadas de direcciones físicas con la API de google Geocoding"
   ]
  },
  {
   "cell_type": "markdown",
   "metadata": {},
   "source": [
    "Es posible aprovechar la API de google Geocoding para obtener las coordenada (latitud y longitud) de una dirección. Por ejemplo queremos obtener las coordenada de CARRERA 81C CALLE 4C-61, CARTAGENA, BOLIVAR para poder colocarlas en un mapa para visualización. Es muy frecuente que tengamos miles de direcciones para encontrar sus coordenadas y hacerlo manuelamente es un atarea tediosa. Por lo tanto utilizar la API de google puede ser de gran ayuda."
   ]
  },
  {
   "cell_type": "markdown",
   "metadata": {},
   "source": [
    "Librerias a utiliazar"
   ]
  },
  {
   "cell_type": "code",
   "execution_count": 54,
   "metadata": {},
   "outputs": [],
   "source": [
    "import pandas as pd\n",
    "import googlemaps\n",
    "import re"
   ]
  },
  {
   "cell_type": "code",
   "execution_count": 57,
   "metadata": {},
   "outputs": [],
   "source": [
    "## funciones de limpieza de las direcciones\n",
    "\n",
    "def recodificarCalle(direccion):\n",
    "    expresion=\"[C][L][\\s*]|[C][L][L][E][\\s*]|[C][L][L][\\s*]|[C][l][l][\\s*]\"\n",
    "    recod=re.sub(expresion,\"CALLE \",direccion)\n",
    "    return recod\n",
    "\n",
    "def recodificarCarrera(direccion):\n",
    "    expresion=\"[C][R][\\s*]|[K][R][A][\\s*]|[K][A][\\s*]|[C][A][\\s*]|[C][R][A][\\s*]|[C][r][a][\\s*]\"\n",
    "    recod=re.sub(expresion,\"CARRERA \",direccion)\n",
    "    return recod\n",
    "\n",
    "def recodificarLocal(direccion):\n",
    "    expresion=\"[L][C][\\s*]|[l][c][\\s*]|[L][C][.][\\s*]\"\n",
    "    recod=re.sub(expresion,\"LOCAL \",direccion)\n",
    "    return recod\n",
    "    \n",
    "def recodificarAvenida(direccion):\n",
    "    expresion=\"[A][V][\\s*]|[a][v][\\s*]\"\n",
    "    recod=re.sub(expresion,\"AVENIDA \",direccion)\n",
    "    return recod\n",
    "\t\n",
    "def recodificarDiagonal(direccion):\n",
    "    expresion=\"[D][G][\\s*]|[d][g][\\s*]|[D][G][.][\\s*]\"\n",
    "    recod=re.sub(expresion,\"DIAGONAL \",direccion)\n",
    "    return recod\n",
    "\t\n",
    "def recodificarManzana(direccion):\n",
    "    expresion=\"[M][Z][\\s*]|[m][z][\\s*]\"\n",
    "    recod=re.sub(expresion,\"MANZANA \",direccion)\n",
    "    return recod\n",
    "\t\n",
    "def recodificarVereda(direccion):\n",
    "    expresion=\"[V][R][D][\\s*]|[m][z][\\s*]\"\n",
    "    recod=re.sub(expresion,\"VEREDA \",direccion)\n",
    "    return recod\n",
    "\n",
    "def limpiarTexto(texto):\n",
    "    texto_limpio=texto.lstrip().rstrip()\n",
    "    return texto_limpio\n",
    "\n",
    "### funcion para obtener la latitud y la longitud, el try except es necesario para no interrumpir la ejecución en caso de no encontrar coordenadas para la direccion.\n",
    "def obtenerCoordenadas(add):\n",
    "    g = key_google.geocode(add)\n",
    "    try:\n",
    "        lat = g[0][\"geometry\"][\"location\"][\"lat\"]\n",
    "        lng = g[0][\"geometry\"][\"location\"][\"lng\"]\n",
    "        return (lat, lng)\n",
    "    except IndexError:\n",
    "        lat='null'\n",
    "        lng='null'\n",
    "\n",
    "# Funcion consolidada para limpieza previa de la direccion.\n",
    "def procesarDireccion(direccion):\n",
    "    dir_clean=limpiarTexto(direccion)\n",
    "    dir_mod=recodificarVereda(recodificarManzana(recodificarDiagonal(\n",
    "        recodificarAvenida(recodificarLocal(recodificarCarrera(\n",
    "            recodificarCalle(dir_clean)))))))\n",
    "    return dir_mod\n"
   ]
  },
  {
   "cell_type": "markdown",
   "metadata": {},
   "source": [
    "La primer paso para consumir la API de google es abrir una cuenta en Google Cloud, crear un proyeto y en este habilitar la API geocoding.\n",
    "https://developers.google.com/maps/documentation/geocoding/get-api-key"
   ]
  },
  {
   "cell_type": "markdown",
   "metadata": {},
   "source": [
    "Una vez contamos con la API podemos hacer el llamado de la misma para poder utilziar la API:"
   ]
  },
  {
   "cell_type": "code",
   "execution_count": 44,
   "metadata": {},
   "outputs": [],
   "source": [
    "key_google = googlemaps.Client(key=\"********************************\")"
   ]
  },
  {
   "cell_type": "markdown",
   "metadata": {},
   "source": [
    "## lectura de los corresponsales propios y en alianza"
   ]
  },
  {
   "cell_type": "code",
   "execution_count": 63,
   "metadata": {},
   "outputs": [],
   "source": [
    "df_corresponsales=pd.read_excel('direcciones fisicas.xlsx', sheet_name='Corresponsales')"
   ]
  },
  {
   "cell_type": "code",
   "execution_count": 66,
   "metadata": {},
   "outputs": [],
   "source": [
    "df_corresponsales.columns=['DEPARTAMENTO','MUNICIPIO','ESTABLECIMIENTO','DIRECCION','BARRIO','TRANSACCIONES_HABILITADAS','ALIANZA']"
   ]
  },
  {
   "cell_type": "code",
   "execution_count": 75,
   "metadata": {},
   "outputs": [
    {
     "data": {
      "text/html": [
       "<div>\n",
       "<style scoped>\n",
       "    .dataframe tbody tr th:only-of-type {\n",
       "        vertical-align: middle;\n",
       "    }\n",
       "\n",
       "    .dataframe tbody tr th {\n",
       "        vertical-align: top;\n",
       "    }\n",
       "\n",
       "    .dataframe thead th {\n",
       "        text-align: right;\n",
       "    }\n",
       "</style>\n",
       "<table border=\"1\" class=\"dataframe\">\n",
       "  <thead>\n",
       "    <tr style=\"text-align: right;\">\n",
       "      <th></th>\n",
       "      <th>DEPARTAMENTO</th>\n",
       "      <th>MUNICIPIO</th>\n",
       "      <th>DIRECCION</th>\n",
       "    </tr>\n",
       "  </thead>\n",
       "  <tbody>\n",
       "    <tr>\n",
       "      <th>0</th>\n",
       "      <td>LA GUAJIRA</td>\n",
       "      <td>MAICAO</td>\n",
       "      <td>CL 15 15 15 BRR CENTRO</td>\n",
       "    </tr>\n",
       "    <tr>\n",
       "      <th>1</th>\n",
       "      <td>LA GUAJIRA</td>\n",
       "      <td>MAICAO</td>\n",
       "      <td>CL 15 15 15 LC 1</td>\n",
       "    </tr>\n",
       "    <tr>\n",
       "      <th>2</th>\n",
       "      <td>LA GUAJIRA</td>\n",
       "      <td>MAICAO</td>\n",
       "      <td>CL 15 15 15 LC 2</td>\n",
       "    </tr>\n",
       "    <tr>\n",
       "      <th>3</th>\n",
       "      <td>LA GUAJIRA</td>\n",
       "      <td>MAICAO</td>\n",
       "      <td>CL 15 13 40 L 3 EDF CAMANI</td>\n",
       "    </tr>\n",
       "    <tr>\n",
       "      <th>4</th>\n",
       "      <td>LA GUAJIRA</td>\n",
       "      <td>MAICAO</td>\n",
       "      <td>CR 12 14 60 LC 8 EDIF WAKED</td>\n",
       "    </tr>\n",
       "    <tr>\n",
       "      <th>...</th>\n",
       "      <td>...</td>\n",
       "      <td>...</td>\n",
       "      <td>...</td>\n",
       "    </tr>\n",
       "    <tr>\n",
       "      <th>23948</th>\n",
       "      <td>VALLE DEL CAUCA</td>\n",
       "      <td>CANDELARIA</td>\n",
       "      <td>CR 10 #14-28 AP 2</td>\n",
       "    </tr>\n",
       "    <tr>\n",
       "      <th>23949</th>\n",
       "      <td>CASANARE</td>\n",
       "      <td>VILLANUEVA</td>\n",
       "      <td>CL 7 #11-47</td>\n",
       "    </tr>\n",
       "    <tr>\n",
       "      <th>23950</th>\n",
       "      <td>META</td>\n",
       "      <td>VILLAVICENCIO</td>\n",
       "      <td>CL 53 Sur # 42-20</td>\n",
       "    </tr>\n",
       "    <tr>\n",
       "      <th>23951</th>\n",
       "      <td>META</td>\n",
       "      <td>VISTA HERMOSA</td>\n",
       "      <td>CL 10 # 11 - 26</td>\n",
       "    </tr>\n",
       "    <tr>\n",
       "      <th>23952</th>\n",
       "      <td>VALLE DEL CAUCA</td>\n",
       "      <td>YUMBO</td>\n",
       "      <td>CR 6 #7-32</td>\n",
       "    </tr>\n",
       "  </tbody>\n",
       "</table>\n",
       "<p>23953 rows × 3 columns</p>\n",
       "</div>"
      ],
      "text/plain": [
       "          DEPARTAMENTO      MUNICIPIO                    DIRECCION\n",
       "0           LA GUAJIRA         MAICAO       CL 15 15 15 BRR CENTRO\n",
       "1           LA GUAJIRA         MAICAO             CL 15 15 15 LC 1\n",
       "2           LA GUAJIRA         MAICAO             CL 15 15 15 LC 2\n",
       "3           LA GUAJIRA         MAICAO   CL 15 13 40 L 3 EDF CAMANI\n",
       "4           LA GUAJIRA         MAICAO  CR 12 14 60 LC 8 EDIF WAKED\n",
       "...                ...            ...                          ...\n",
       "23948  VALLE DEL CAUCA     CANDELARIA           CR 10 #14-28 AP 2 \n",
       "23949         CASANARE     VILLANUEVA                  CL 7 #11-47\n",
       "23950             META  VILLAVICENCIO            CL 53 Sur # 42-20\n",
       "23951             META  VISTA HERMOSA              CL 10 # 11 - 26\n",
       "23952  VALLE DEL CAUCA          YUMBO                   CR 6 #7-32\n",
       "\n",
       "[23953 rows x 3 columns]"
      ]
     },
     "execution_count": 75,
     "metadata": {},
     "output_type": "execute_result"
    }
   ],
   "source": [
    "df_corresponsales2=df_corresponsales[['DEPARTAMENTO','MUNICIPIO','DIRECCION']]\n",
    "df_corresponsales2"
   ]
  },
  {
   "cell_type": "markdown",
   "metadata": {},
   "source": [
    "## PRUEBAS"
   ]
  },
  {
   "cell_type": "code",
   "execution_count": 76,
   "metadata": {},
   "outputs": [
    {
     "data": {
      "text/plain": [
       "'AVENIDA SAN MARTIN CARRERA 2 # 8-142 LOCAL 101, CARTAGENA, BOLIVAR'"
      ]
     },
     "execution_count": 76,
     "metadata": {},
     "output_type": "execute_result"
    }
   ],
   "source": [
    "texto=\"AVENIDA SAN MARTIN CARRERA 2 # 8-142 LOCAL 101, CARTAGENA, BOLIVAR\"\n",
    "procesarDireccion(texto)"
   ]
  },
  {
   "cell_type": "code",
   "execution_count": 77,
   "metadata": {},
   "outputs": [
    {
     "data": {
      "text/html": [
       "<div>\n",
       "<style scoped>\n",
       "    .dataframe tbody tr th:only-of-type {\n",
       "        vertical-align: middle;\n",
       "    }\n",
       "\n",
       "    .dataframe tbody tr th {\n",
       "        vertical-align: top;\n",
       "    }\n",
       "\n",
       "    .dataframe thead th {\n",
       "        text-align: right;\n",
       "    }\n",
       "</style>\n",
       "<table border=\"1\" class=\"dataframe\">\n",
       "  <thead>\n",
       "    <tr style=\"text-align: right;\">\n",
       "      <th></th>\n",
       "      <th>direcciones</th>\n",
       "    </tr>\n",
       "  </thead>\n",
       "  <tbody>\n",
       "    <tr>\n",
       "      <th>0</th>\n",
       "      <td>AVENIDA SAN MARTIN CARRERA 2 # 8-142 LOCAL 101...</td>\n",
       "    </tr>\n",
       "  </tbody>\n",
       "</table>\n",
       "</div>"
      ],
      "text/plain": [
       "                                         direcciones\n",
       "0  AVENIDA SAN MARTIN CARRERA 2 # 8-142 LOCAL 101..."
      ]
     },
     "execution_count": 77,
     "metadata": {},
     "output_type": "execute_result"
    }
   ],
   "source": [
    "lista_dir=[texto]\n",
    "df=pd.DataFrame({'direcciones':lista_dir})\n",
    "df"
   ]
  },
  {
   "cell_type": "code",
   "execution_count": 78,
   "metadata": {},
   "outputs": [
    {
     "data": {
      "text/html": [
       "<div>\n",
       "<style scoped>\n",
       "    .dataframe tbody tr th:only-of-type {\n",
       "        vertical-align: middle;\n",
       "    }\n",
       "\n",
       "    .dataframe tbody tr th {\n",
       "        vertical-align: top;\n",
       "    }\n",
       "\n",
       "    .dataframe thead th {\n",
       "        text-align: right;\n",
       "    }\n",
       "</style>\n",
       "<table border=\"1\" class=\"dataframe\">\n",
       "  <thead>\n",
       "    <tr style=\"text-align: right;\">\n",
       "      <th></th>\n",
       "      <th>direcciones</th>\n",
       "      <th>direccion_cod</th>\n",
       "    </tr>\n",
       "  </thead>\n",
       "  <tbody>\n",
       "    <tr>\n",
       "      <th>0</th>\n",
       "      <td>AVENIDA SAN MARTIN CARRERA 2 # 8-142 LOCAL 101...</td>\n",
       "      <td>(10.403636, -75.55433699999999)</td>\n",
       "    </tr>\n",
       "  </tbody>\n",
       "</table>\n",
       "</div>"
      ],
      "text/plain": [
       "                                         direcciones  \\\n",
       "0  AVENIDA SAN MARTIN CARRERA 2 # 8-142 LOCAL 101...   \n",
       "\n",
       "                     direccion_cod  \n",
       "0  (10.403636, -75.55433699999999)  "
      ]
     },
     "execution_count": 78,
     "metadata": {},
     "output_type": "execute_result"
    }
   ],
   "source": [
    "df['direccion_cod'] = df['direcciones'].apply(obtenerCoordenadas)\n",
    "df"
   ]
  },
  {
   "cell_type": "markdown",
   "metadata": {},
   "source": [
    "## creacion de la columna direccion"
   ]
  },
  {
   "cell_type": "code",
   "execution_count": 80,
   "metadata": {},
   "outputs": [
    {
     "name": "stderr",
     "output_type": "stream",
     "text": [
      "<ipython-input-80-e8b9d942bfd1>:1: SettingWithCopyWarning: \n",
      "A value is trying to be set on a copy of a slice from a DataFrame.\n",
      "Try using .loc[row_indexer,col_indexer] = value instead\n",
      "\n",
      "See the caveats in the documentation: https://pandas.pydata.org/pandas-docs/stable/user_guide/indexing.html#returning-a-view-versus-a-copy\n",
      "  df_corresponsales2['dirFormateada']=df_corresponsales['DIRECCION'].apply(procesarDireccion)\n"
     ]
    }
   ],
   "source": [
    "df_corresponsales2['dirFormateada']=df_corresponsales['DIRECCION'].apply(procesarDireccion)"
   ]
  },
  {
   "cell_type": "code",
   "execution_count": 81,
   "metadata": {},
   "outputs": [
    {
     "data": {
      "text/html": [
       "<div>\n",
       "<style scoped>\n",
       "    .dataframe tbody tr th:only-of-type {\n",
       "        vertical-align: middle;\n",
       "    }\n",
       "\n",
       "    .dataframe tbody tr th {\n",
       "        vertical-align: top;\n",
       "    }\n",
       "\n",
       "    .dataframe thead th {\n",
       "        text-align: right;\n",
       "    }\n",
       "</style>\n",
       "<table border=\"1\" class=\"dataframe\">\n",
       "  <thead>\n",
       "    <tr style=\"text-align: right;\">\n",
       "      <th></th>\n",
       "      <th>DEPARTAMENTO</th>\n",
       "      <th>MUNICIPIO</th>\n",
       "      <th>DIRECCION</th>\n",
       "      <th>dirFormateada</th>\n",
       "    </tr>\n",
       "  </thead>\n",
       "  <tbody>\n",
       "    <tr>\n",
       "      <th>0</th>\n",
       "      <td>LA GUAJIRA</td>\n",
       "      <td>MAICAO</td>\n",
       "      <td>CL 15 15 15 BRR CENTRO</td>\n",
       "      <td>CALLE 15 15 15 BRR CENTRO</td>\n",
       "    </tr>\n",
       "    <tr>\n",
       "      <th>1</th>\n",
       "      <td>LA GUAJIRA</td>\n",
       "      <td>MAICAO</td>\n",
       "      <td>CL 15 15 15 LC 1</td>\n",
       "      <td>CALLE 15 15 15 LOCAL 1</td>\n",
       "    </tr>\n",
       "    <tr>\n",
       "      <th>2</th>\n",
       "      <td>LA GUAJIRA</td>\n",
       "      <td>MAICAO</td>\n",
       "      <td>CL 15 15 15 LC 2</td>\n",
       "      <td>CALLE 15 15 15 LOCAL 2</td>\n",
       "    </tr>\n",
       "    <tr>\n",
       "      <th>3</th>\n",
       "      <td>LA GUAJIRA</td>\n",
       "      <td>MAICAO</td>\n",
       "      <td>CL 15 13 40 L 3 EDF CAMANI</td>\n",
       "      <td>CALLE 15 13 40 L 3 EDF CAMANI</td>\n",
       "    </tr>\n",
       "    <tr>\n",
       "      <th>4</th>\n",
       "      <td>LA GUAJIRA</td>\n",
       "      <td>MAICAO</td>\n",
       "      <td>CR 12 14 60 LC 8 EDIF WAKED</td>\n",
       "      <td>CARRERA 12 14 60 LOCAL 8 EDIF WAKED</td>\n",
       "    </tr>\n",
       "    <tr>\n",
       "      <th>...</th>\n",
       "      <td>...</td>\n",
       "      <td>...</td>\n",
       "      <td>...</td>\n",
       "      <td>...</td>\n",
       "    </tr>\n",
       "    <tr>\n",
       "      <th>23948</th>\n",
       "      <td>VALLE DEL CAUCA</td>\n",
       "      <td>CANDELARIA</td>\n",
       "      <td>CR 10 #14-28 AP 2</td>\n",
       "      <td>CARRERA 10 #14-28 AP 2</td>\n",
       "    </tr>\n",
       "    <tr>\n",
       "      <th>23949</th>\n",
       "      <td>CASANARE</td>\n",
       "      <td>VILLANUEVA</td>\n",
       "      <td>CL 7 #11-47</td>\n",
       "      <td>CALLE 7 #11-47</td>\n",
       "    </tr>\n",
       "    <tr>\n",
       "      <th>23950</th>\n",
       "      <td>META</td>\n",
       "      <td>VILLAVICENCIO</td>\n",
       "      <td>CL 53 Sur # 42-20</td>\n",
       "      <td>CALLE 53 Sur # 42-20</td>\n",
       "    </tr>\n",
       "    <tr>\n",
       "      <th>23951</th>\n",
       "      <td>META</td>\n",
       "      <td>VISTA HERMOSA</td>\n",
       "      <td>CL 10 # 11 - 26</td>\n",
       "      <td>CALLE 10 # 11 - 26</td>\n",
       "    </tr>\n",
       "    <tr>\n",
       "      <th>23952</th>\n",
       "      <td>VALLE DEL CAUCA</td>\n",
       "      <td>YUMBO</td>\n",
       "      <td>CR 6 #7-32</td>\n",
       "      <td>CARRERA 6 #7-32</td>\n",
       "    </tr>\n",
       "  </tbody>\n",
       "</table>\n",
       "<p>23953 rows × 4 columns</p>\n",
       "</div>"
      ],
      "text/plain": [
       "          DEPARTAMENTO      MUNICIPIO                    DIRECCION  \\\n",
       "0           LA GUAJIRA         MAICAO       CL 15 15 15 BRR CENTRO   \n",
       "1           LA GUAJIRA         MAICAO             CL 15 15 15 LC 1   \n",
       "2           LA GUAJIRA         MAICAO             CL 15 15 15 LC 2   \n",
       "3           LA GUAJIRA         MAICAO   CL 15 13 40 L 3 EDF CAMANI   \n",
       "4           LA GUAJIRA         MAICAO  CR 12 14 60 LC 8 EDIF WAKED   \n",
       "...                ...            ...                          ...   \n",
       "23948  VALLE DEL CAUCA     CANDELARIA           CR 10 #14-28 AP 2    \n",
       "23949         CASANARE     VILLANUEVA                  CL 7 #11-47   \n",
       "23950             META  VILLAVICENCIO            CL 53 Sur # 42-20   \n",
       "23951             META  VISTA HERMOSA              CL 10 # 11 - 26   \n",
       "23952  VALLE DEL CAUCA          YUMBO                   CR 6 #7-32   \n",
       "\n",
       "                             dirFormateada  \n",
       "0                CALLE 15 15 15 BRR CENTRO  \n",
       "1                   CALLE 15 15 15 LOCAL 1  \n",
       "2                   CALLE 15 15 15 LOCAL 2  \n",
       "3            CALLE 15 13 40 L 3 EDF CAMANI  \n",
       "4      CARRERA 12 14 60 LOCAL 8 EDIF WAKED  \n",
       "...                                    ...  \n",
       "23948               CARRERA 10 #14-28 AP 2  \n",
       "23949                       CALLE 7 #11-47  \n",
       "23950                 CALLE 53 Sur # 42-20  \n",
       "23951                   CALLE 10 # 11 - 26  \n",
       "23952                      CARRERA 6 #7-32  \n",
       "\n",
       "[23953 rows x 4 columns]"
      ]
     },
     "execution_count": 81,
     "metadata": {},
     "output_type": "execute_result"
    }
   ],
   "source": [
    "df_corresponsales2"
   ]
  },
  {
   "cell_type": "code",
   "execution_count": 82,
   "metadata": {},
   "outputs": [
    {
     "name": "stderr",
     "output_type": "stream",
     "text": [
      "<ipython-input-82-cb92b6ff3a9e>:1: SettingWithCopyWarning: \n",
      "A value is trying to be set on a copy of a slice from a DataFrame.\n",
      "Try using .loc[row_indexer,col_indexer] = value instead\n",
      "\n",
      "See the caveats in the documentation: https://pandas.pydata.org/pandas-docs/stable/user_guide/indexing.html#returning-a-view-versus-a-copy\n",
      "  df_corresponsales2['DireccionConcatenada']=df_corresponsales2['dirFormateada']+\", \"+df_corresponsales2['MUNICIPIO']+\", \"+df_corresponsales2['DEPARTAMENTO']\n"
     ]
    }
   ],
   "source": [
    "df_corresponsales2['DireccionConcatenada']=df_corresponsales2['dirFormateada']+\", \"+df_corresponsales2['MUNICIPIO']+\", \"+df_corresponsales2['DEPARTAMENTO']"
   ]
  },
  {
   "cell_type": "code",
   "execution_count": 83,
   "metadata": {},
   "outputs": [
    {
     "data": {
      "text/html": [
       "<div>\n",
       "<style scoped>\n",
       "    .dataframe tbody tr th:only-of-type {\n",
       "        vertical-align: middle;\n",
       "    }\n",
       "\n",
       "    .dataframe tbody tr th {\n",
       "        vertical-align: top;\n",
       "    }\n",
       "\n",
       "    .dataframe thead th {\n",
       "        text-align: right;\n",
       "    }\n",
       "</style>\n",
       "<table border=\"1\" class=\"dataframe\">\n",
       "  <thead>\n",
       "    <tr style=\"text-align: right;\">\n",
       "      <th></th>\n",
       "      <th>DEPARTAMENTO</th>\n",
       "      <th>MUNICIPIO</th>\n",
       "      <th>DIRECCION</th>\n",
       "      <th>dirFormateada</th>\n",
       "      <th>DireccionConcatenada</th>\n",
       "    </tr>\n",
       "  </thead>\n",
       "  <tbody>\n",
       "    <tr>\n",
       "      <th>0</th>\n",
       "      <td>LA GUAJIRA</td>\n",
       "      <td>MAICAO</td>\n",
       "      <td>CL 15 15 15 BRR CENTRO</td>\n",
       "      <td>CALLE 15 15 15 BRR CENTRO</td>\n",
       "      <td>CALLE 15 15 15 BRR CENTRO, MAICAO, LA GUAJIRA</td>\n",
       "    </tr>\n",
       "    <tr>\n",
       "      <th>1</th>\n",
       "      <td>LA GUAJIRA</td>\n",
       "      <td>MAICAO</td>\n",
       "      <td>CL 15 15 15 LC 1</td>\n",
       "      <td>CALLE 15 15 15 LOCAL 1</td>\n",
       "      <td>CALLE 15 15 15 LOCAL 1, MAICAO, LA GUAJIRA</td>\n",
       "    </tr>\n",
       "    <tr>\n",
       "      <th>2</th>\n",
       "      <td>LA GUAJIRA</td>\n",
       "      <td>MAICAO</td>\n",
       "      <td>CL 15 15 15 LC 2</td>\n",
       "      <td>CALLE 15 15 15 LOCAL 2</td>\n",
       "      <td>CALLE 15 15 15 LOCAL 2, MAICAO, LA GUAJIRA</td>\n",
       "    </tr>\n",
       "    <tr>\n",
       "      <th>3</th>\n",
       "      <td>LA GUAJIRA</td>\n",
       "      <td>MAICAO</td>\n",
       "      <td>CL 15 13 40 L 3 EDF CAMANI</td>\n",
       "      <td>CALLE 15 13 40 L 3 EDF CAMANI</td>\n",
       "      <td>CALLE 15 13 40 L 3 EDF CAMANI, MAICAO, LA GUAJIRA</td>\n",
       "    </tr>\n",
       "    <tr>\n",
       "      <th>4</th>\n",
       "      <td>LA GUAJIRA</td>\n",
       "      <td>MAICAO</td>\n",
       "      <td>CR 12 14 60 LC 8 EDIF WAKED</td>\n",
       "      <td>CARRERA 12 14 60 LOCAL 8 EDIF WAKED</td>\n",
       "      <td>CARRERA 12 14 60 LOCAL 8 EDIF WAKED, MAICAO, L...</td>\n",
       "    </tr>\n",
       "    <tr>\n",
       "      <th>...</th>\n",
       "      <td>...</td>\n",
       "      <td>...</td>\n",
       "      <td>...</td>\n",
       "      <td>...</td>\n",
       "      <td>...</td>\n",
       "    </tr>\n",
       "    <tr>\n",
       "      <th>23948</th>\n",
       "      <td>VALLE DEL CAUCA</td>\n",
       "      <td>CANDELARIA</td>\n",
       "      <td>CR 10 #14-28 AP 2</td>\n",
       "      <td>CARRERA 10 #14-28 AP 2</td>\n",
       "      <td>CARRERA 10 #14-28 AP 2, CANDELARIA, VALLE DEL ...</td>\n",
       "    </tr>\n",
       "    <tr>\n",
       "      <th>23949</th>\n",
       "      <td>CASANARE</td>\n",
       "      <td>VILLANUEVA</td>\n",
       "      <td>CL 7 #11-47</td>\n",
       "      <td>CALLE 7 #11-47</td>\n",
       "      <td>CALLE 7 #11-47, VILLANUEVA, CASANARE</td>\n",
       "    </tr>\n",
       "    <tr>\n",
       "      <th>23950</th>\n",
       "      <td>META</td>\n",
       "      <td>VILLAVICENCIO</td>\n",
       "      <td>CL 53 Sur # 42-20</td>\n",
       "      <td>CALLE 53 Sur # 42-20</td>\n",
       "      <td>CALLE 53 Sur # 42-20, VILLAVICENCIO, META</td>\n",
       "    </tr>\n",
       "    <tr>\n",
       "      <th>23951</th>\n",
       "      <td>META</td>\n",
       "      <td>VISTA HERMOSA</td>\n",
       "      <td>CL 10 # 11 - 26</td>\n",
       "      <td>CALLE 10 # 11 - 26</td>\n",
       "      <td>CALLE 10 # 11 - 26, VISTA HERMOSA, META</td>\n",
       "    </tr>\n",
       "    <tr>\n",
       "      <th>23952</th>\n",
       "      <td>VALLE DEL CAUCA</td>\n",
       "      <td>YUMBO</td>\n",
       "      <td>CR 6 #7-32</td>\n",
       "      <td>CARRERA 6 #7-32</td>\n",
       "      <td>CARRERA 6 #7-32, YUMBO, VALLE DEL CAUCA</td>\n",
       "    </tr>\n",
       "  </tbody>\n",
       "</table>\n",
       "<p>23953 rows × 5 columns</p>\n",
       "</div>"
      ],
      "text/plain": [
       "          DEPARTAMENTO      MUNICIPIO                    DIRECCION  \\\n",
       "0           LA GUAJIRA         MAICAO       CL 15 15 15 BRR CENTRO   \n",
       "1           LA GUAJIRA         MAICAO             CL 15 15 15 LC 1   \n",
       "2           LA GUAJIRA         MAICAO             CL 15 15 15 LC 2   \n",
       "3           LA GUAJIRA         MAICAO   CL 15 13 40 L 3 EDF CAMANI   \n",
       "4           LA GUAJIRA         MAICAO  CR 12 14 60 LC 8 EDIF WAKED   \n",
       "...                ...            ...                          ...   \n",
       "23948  VALLE DEL CAUCA     CANDELARIA           CR 10 #14-28 AP 2    \n",
       "23949         CASANARE     VILLANUEVA                  CL 7 #11-47   \n",
       "23950             META  VILLAVICENCIO            CL 53 Sur # 42-20   \n",
       "23951             META  VISTA HERMOSA              CL 10 # 11 - 26   \n",
       "23952  VALLE DEL CAUCA          YUMBO                   CR 6 #7-32   \n",
       "\n",
       "                             dirFormateada  \\\n",
       "0                CALLE 15 15 15 BRR CENTRO   \n",
       "1                   CALLE 15 15 15 LOCAL 1   \n",
       "2                   CALLE 15 15 15 LOCAL 2   \n",
       "3            CALLE 15 13 40 L 3 EDF CAMANI   \n",
       "4      CARRERA 12 14 60 LOCAL 8 EDIF WAKED   \n",
       "...                                    ...   \n",
       "23948               CARRERA 10 #14-28 AP 2   \n",
       "23949                       CALLE 7 #11-47   \n",
       "23950                 CALLE 53 Sur # 42-20   \n",
       "23951                   CALLE 10 # 11 - 26   \n",
       "23952                      CARRERA 6 #7-32   \n",
       "\n",
       "                                    DireccionConcatenada  \n",
       "0          CALLE 15 15 15 BRR CENTRO, MAICAO, LA GUAJIRA  \n",
       "1             CALLE 15 15 15 LOCAL 1, MAICAO, LA GUAJIRA  \n",
       "2             CALLE 15 15 15 LOCAL 2, MAICAO, LA GUAJIRA  \n",
       "3      CALLE 15 13 40 L 3 EDF CAMANI, MAICAO, LA GUAJIRA  \n",
       "4      CARRERA 12 14 60 LOCAL 8 EDIF WAKED, MAICAO, L...  \n",
       "...                                                  ...  \n",
       "23948  CARRERA 10 #14-28 AP 2, CANDELARIA, VALLE DEL ...  \n",
       "23949               CALLE 7 #11-47, VILLANUEVA, CASANARE  \n",
       "23950          CALLE 53 Sur # 42-20, VILLAVICENCIO, META  \n",
       "23951            CALLE 10 # 11 - 26, VISTA HERMOSA, META  \n",
       "23952            CARRERA 6 #7-32, YUMBO, VALLE DEL CAUCA  \n",
       "\n",
       "[23953 rows x 5 columns]"
      ]
     },
     "execution_count": 83,
     "metadata": {},
     "output_type": "execute_result"
    }
   ],
   "source": [
    "df_corresponsales2"
   ]
  },
  {
   "cell_type": "markdown",
   "metadata": {},
   "source": [
    "## Encontrar las coordenadas para todo el dataframe"
   ]
  },
  {
   "cell_type": "markdown",
   "metadata": {},
   "source": [
    "para encontrar las coordenadas para cada una de las direcciones en el dataframe aplicamos la función a la columna correspondiente con APPLY"
   ]
  },
  {
   "cell_type": "code",
   "execution_count": 121,
   "metadata": {},
   "outputs": [
    {
     "name": "stderr",
     "output_type": "stream",
     "text": [
      "<ipython-input-121-d56927a7095c>:1: SettingWithCopyWarning: \n",
      "A value is trying to be set on a copy of a slice from a DataFrame.\n",
      "Try using .loc[row_indexer,col_indexer] = value instead\n",
      "\n",
      "See the caveats in the documentation: https://pandas.pydata.org/pandas-docs/stable/user_guide/indexing.html#returning-a-view-versus-a-copy\n",
      "  bloque1['coordenadas'] = bloque1['DireccionConcatenada'].apply(geocode)\n"
     ]
    }
   ],
   "source": [
    "df_corresponsales2['coordenadas'] = df_corresponsales2['DireccionConcatenada'].apply(obtenerCoordenadas)"
   ]
  },
  {
   "cell_type": "markdown",
   "metadata": {},
   "source": [
    "Una vez que se han encontrado todas las direcciones fisicas, podemos exportar el archivo en formato xlsx"
   ]
  },
  {
   "cell_type": "code",
   "execution_count": 136,
   "metadata": {},
   "outputs": [],
   "source": [
    "df_corresponsales2.to_excel(\"CoordenadasaCorresponsales20221023.xlsx\")"
   ]
  }
 ],
 "metadata": {
  "kernelspec": {
   "display_name": "Python 3.8.8 ('base')",
   "language": "python",
   "name": "python3"
  },
  "language_info": {
   "codemirror_mode": {
    "name": "ipython",
    "version": 3
   },
   "file_extension": ".py",
   "mimetype": "text/x-python",
   "name": "python",
   "nbconvert_exporter": "python",
   "pygments_lexer": "ipython3",
   "version": "3.8.8"
  },
  "orig_nbformat": 4,
  "vscode": {
   "interpreter": {
    "hash": "d188dfcbde1e480b71c66e69b52162f1721e9379a92df673941419cd9e5e1b3f"
   }
  }
 },
 "nbformat": 4,
 "nbformat_minor": 2
}
